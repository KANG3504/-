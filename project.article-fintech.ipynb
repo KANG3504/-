{
 "cells": [
  {
   "cell_type": "markdown",
   "metadata": {},
   "source": [
    "### 작업 경로 설정"
   ]
  },
  {
   "cell_type": "code",
   "execution_count": 185,
   "metadata": {},
   "outputs": [],
   "source": [
    "path = 'C:\\\\Users\\\\rkdgu\\\\Desktop\\\\project_data'"
   ]
  },
  {
   "cell_type": "code",
   "execution_count": 186,
   "metadata": {},
   "outputs": [],
   "source": [
    "import nltk\n",
    "import tensorflow as tf\n",
    "from nltk.corpus import stopwords\n",
    "from nltk.tokenize import word_tokenize\n",
    "from konlpy.tag import Twitter\n",
    "from konlpy.utils import pprint\n",
    "from konlpy.tag import Kkma\n",
    "from tensorflow.keras.optimizers import SGD\n",
    "from collections import Counter\n",
    "from sklearn.feature_extraction.text import TfidfVectorizer\n",
    "from sklearn.model_selection import train_test_split\n",
    "from sklearn.metrics import pairwise_distances\n",
    "import FinanceDataReader as fdr\n",
    "import pandas as pd\n",
    "import csv\n",
    "import os"
   ]
  },
  {
   "cell_type": "code",
   "execution_count": 187,
   "metadata": {},
   "outputs": [],
   "source": [
    "os.chdir(path)"
   ]
  },
  {
   "cell_type": "markdown",
   "metadata": {},
   "source": [
    "### IBK 뉴스 데이터와 변화율을 join한것. csv 파일로 저장된거 불러옴"
   ]
  },
  {
   "cell_type": "code",
   "execution_count": 188,
   "metadata": {},
   "outputs": [],
   "source": [
    "article = pd.read_csv('ibk.csv') # 2010.4.18 ~ 2019.4.18"
   ]
  },
  {
   "cell_type": "code",
   "execution_count": 189,
   "metadata": {},
   "outputs": [
    {
     "data": {
      "text/html": [
       "<div>\n",
       "<style scoped>\n",
       "    .dataframe tbody tr th:only-of-type {\n",
       "        vertical-align: middle;\n",
       "    }\n",
       "\n",
       "    .dataframe tbody tr th {\n",
       "        vertical-align: top;\n",
       "    }\n",
       "\n",
       "    .dataframe thead th {\n",
       "        text-align: right;\n",
       "    }\n",
       "</style>\n",
       "<table border=\"1\" class=\"dataframe\">\n",
       "  <thead>\n",
       "    <tr style=\"text-align: right;\">\n",
       "      <th></th>\n",
       "      <th>Unnamed: 0</th>\n",
       "      <th>Date</th>\n",
       "      <th>content</th>\n",
       "      <th>change</th>\n",
       "    </tr>\n",
       "  </thead>\n",
       "  <tbody>\n",
       "    <tr>\n",
       "      <th>0</th>\n",
       "      <td>0</td>\n",
       "      <td>2010-04-18</td>\n",
       "      <td>금융상품 인증 우대금리 구매 어치 적립 단체 분할 입금 설정 본인 이용자 제출 근무...</td>\n",
       "      <td>0.000000</td>\n",
       "    </tr>\n",
       "    <tr>\n",
       "      <th>1</th>\n",
       "      <td>1</td>\n",
       "      <td>2010-04-19</td>\n",
       "      <td>금융상품 인증 우대금리 구매 어치 적립 단체 분할 입금 설정 본인 이용자 제출 근무...</td>\n",
       "      <td>-0.009375</td>\n",
       "    </tr>\n",
       "    <tr>\n",
       "      <th>2</th>\n",
       "      <td>2</td>\n",
       "      <td>2010-04-23</td>\n",
       "      <td>사업자 하이닉스 역대 전반적 호조 견인 부가 공정 아이비케이투자증권 선전 디스플레이...</td>\n",
       "      <td>0.042904</td>\n",
       "    </tr>\n",
       "    <tr>\n",
       "      <th>3</th>\n",
       "      <td>3</td>\n",
       "      <td>2010-04-25</td>\n",
       "      <td>한국투자증권 라운드 설정 잔액 장비 포스 한국전력 자문 사가 포트폴리오 기본 편입 ...</td>\n",
       "      <td>0.042904</td>\n",
       "    </tr>\n",
       "    <tr>\n",
       "      <th>4</th>\n",
       "      <td>4</td>\n",
       "      <td>2010-04-26</td>\n",
       "      <td>한국투자증권 라운드 설정 잔액 장비 포스 한국전력 자문 사가 포트폴리오 기본 편입 ...</td>\n",
       "      <td>0.000000</td>\n",
       "    </tr>\n",
       "    <tr>\n",
       "      <th>5</th>\n",
       "      <td>6</td>\n",
       "      <td>2010-05-07</td>\n",
       "      <td>투자은행 골드 이해 접근 유명 보험사 이야기 파생 독일 구매 금융위기 수상 직전 자...</td>\n",
       "      <td>0.025455</td>\n",
       "    </tr>\n",
       "    <tr>\n",
       "      <th>6</th>\n",
       "      <td>7</td>\n",
       "      <td>2010-05-10</td>\n",
       "      <td>지식 전보 가스 체육 관광 승진 행정 재정 진흥 강원 학교 소장 단장 창원 일보 차...</td>\n",
       "      <td>0.007092</td>\n",
       "    </tr>\n",
       "    <tr>\n",
       "      <th>7</th>\n",
       "      <td>8</td>\n",
       "      <td>2010-05-11</td>\n",
       "      <td>지식 전보 가스 체육 관광 승진 행정 재정 진흥 강원 학교 임원 소장 단장 서울대 ...</td>\n",
       "      <td>-0.024648</td>\n",
       "    </tr>\n",
       "    <tr>\n",
       "      <th>8</th>\n",
       "      <td>9</td>\n",
       "      <td>2010-05-16</td>\n",
       "      <td>통장 선물 면제 청약 서민 퇴직 신탁 송금 기기 여신 감면 기업인 제휴 자녀 임직원</td>\n",
       "      <td>-0.060932</td>\n",
       "    </tr>\n",
       "    <tr>\n",
       "      <th>9</th>\n",
       "      <td>10</td>\n",
       "      <td>2010-05-17</td>\n",
       "      <td>재정 금융시장 뉴욕 하이투자증권 도시 소식 상승률 신용등급 우리나라 하향 형성 체육...</td>\n",
       "      <td>0.019084</td>\n",
       "    </tr>\n",
       "    <tr>\n",
       "      <th>10</th>\n",
       "      <td>11</td>\n",
       "      <td>2010-05-18</td>\n",
       "      <td>재정 금융시장 뉴욕 하이투자증권 도시 소식 상승률 신용등급 우리나라 하향</td>\n",
       "      <td>-0.029963</td>\n",
       "    </tr>\n",
       "    <tr>\n",
       "      <th>11</th>\n",
       "      <td>12</td>\n",
       "      <td>2010-05-30</td>\n",
       "      <td>등락 이체 움직임 설계</td>\n",
       "      <td>-0.003745</td>\n",
       "    </tr>\n",
       "    <tr>\n",
       "      <th>12</th>\n",
       "      <td>13</td>\n",
       "      <td>2010-05-31</td>\n",
       "      <td>등락 이체 움직임 설계</td>\n",
       "      <td>0.026316</td>\n",
       "    </tr>\n",
       "    <tr>\n",
       "      <th>13</th>\n",
       "      <td>14</td>\n",
       "      <td>2010-06-03</td>\n",
       "      <td>세대 움직임 사태 구조조정 실질적 민간 포스 설치 퇴직 설정 맞춤 맞춤형 성공률 설...</td>\n",
       "      <td>-0.027304</td>\n",
       "    </tr>\n",
       "    <tr>\n",
       "      <th>14</th>\n",
       "      <td>15</td>\n",
       "      <td>2010-06-14</td>\n",
       "      <td>장세 박스권 등락 재정 여파 지연 편입 미만 규정 범위 이외 파생 강점 보수 설정 ...</td>\n",
       "      <td>-0.016779</td>\n",
       "    </tr>\n",
       "    <tr>\n",
       "      <th>15</th>\n",
       "      <td>16</td>\n",
       "      <td>2010-06-17</td>\n",
       "      <td>내수 인도 러시아 재정 대외 마이너스 주간 단위 등락 침체 성장률</td>\n",
       "      <td>0.000000</td>\n",
       "    </tr>\n",
       "    <tr>\n",
       "      <th>16</th>\n",
       "      <td>17</td>\n",
       "      <td>2010-06-18</td>\n",
       "      <td>러시아 인도 재정 대외 마이너스 주간 단위 등락 침체 성장률 내수</td>\n",
       "      <td>0.016835</td>\n",
       "    </tr>\n",
       "    <tr>\n",
       "      <th>17</th>\n",
       "      <td>18</td>\n",
       "      <td>2010-06-20</td>\n",
       "      <td>아이디어 바닥 마이너스 고민 마찬가지 적립 결합 움직임 이체 설정 변동 단위 반응 ...</td>\n",
       "      <td>0.016835</td>\n",
       "    </tr>\n",
       "    <tr>\n",
       "      <th>18</th>\n",
       "      <td>19</td>\n",
       "      <td>2010-06-21</td>\n",
       "      <td>바닥 마이너스 고민 마찬가지 아이디어 적립 결합 움직임 이체 설정 변동 단위 반응 ...</td>\n",
       "      <td>0.000000</td>\n",
       "    </tr>\n",
       "    <tr>\n",
       "      <th>19</th>\n",
       "      <td>20</td>\n",
       "      <td>2010-06-23</td>\n",
       "      <td>등락 이체 움직임 설계 적립 아래 변경 처리 전화 아이디어</td>\n",
       "      <td>0.006711</td>\n",
       "    </tr>\n",
       "    <tr>\n",
       "      <th>20</th>\n",
       "      <td>21</td>\n",
       "      <td>2010-06-24</td>\n",
       "      <td>등락 이체 움직임 설계 적립 아래 변경 처리 전화 아이디어 파악 통장 급여 충족 기...</td>\n",
       "      <td>-0.003333</td>\n",
       "    </tr>\n",
       "    <tr>\n",
       "      <th>21</th>\n",
       "      <td>22</td>\n",
       "      <td>2010-06-29</td>\n",
       "      <td>소액 급여 통장 설계 잔액 설정 변경 이체 기기 면제 전화 개월간 국면 특정 구매 ...</td>\n",
       "      <td>-0.013605</td>\n",
       "    </tr>\n",
       "    <tr>\n",
       "      <th>22</th>\n",
       "      <td>23</td>\n",
       "      <td>2010-06-30</td>\n",
       "      <td>국면 특정 구매 시도 건강 식품 브랜드 차별화 공장 가동 급여 통장 소액 설계 신탁...</td>\n",
       "      <td>-0.006897</td>\n",
       "    </tr>\n",
       "    <tr>\n",
       "      <th>23</th>\n",
       "      <td>24</td>\n",
       "      <td>2010-07-02</td>\n",
       "      <td>예술 하면서 사회적 공헌 공연 공간 목소리 복합 전당 미디어 기업인 제이 업무협약 ...</td>\n",
       "      <td>-0.041667</td>\n",
       "    </tr>\n",
       "    <tr>\n",
       "      <th>24</th>\n",
       "      <td>25</td>\n",
       "      <td>2010-07-05</td>\n",
       "      <td>호재 개막 상장사 공식 수치 포스 디스플레이 하이닉스 증권업계 추정치 수혜 주인 안...</td>\n",
       "      <td>0.007246</td>\n",
       "    </tr>\n",
       "    <tr>\n",
       "      <th>25</th>\n",
       "      <td>26</td>\n",
       "      <td>2010-07-12</td>\n",
       "      <td>한국은행 저금리 금리인상 수혜 원화 원달러 삼성증권 대한항공 내수 마진 수입 상승률...</td>\n",
       "      <td>0.000000</td>\n",
       "    </tr>\n",
       "    <tr>\n",
       "      <th>26</th>\n",
       "      <td>27</td>\n",
       "      <td>2010-07-13</td>\n",
       "      <td>청년 한번 행복 기업은행장 제안 행장 소식 전화 시험 대한민국 민국 제일 아래</td>\n",
       "      <td>0.019608</td>\n",
       "    </tr>\n",
       "    <tr>\n",
       "      <th>27</th>\n",
       "      <td>28</td>\n",
       "      <td>2010-07-14</td>\n",
       "      <td>마트 의료 쇼핑 소비 성향 대금 영화 통장 기계</td>\n",
       "      <td>0.009615</td>\n",
       "    </tr>\n",
       "    <tr>\n",
       "      <th>28</th>\n",
       "      <td>29</td>\n",
       "      <td>2010-07-18</td>\n",
       "      <td>공공기관 파악 라인 논란 국책 계열 시절 접수 수석 한국은행 노동 대선 자문 대외 ...</td>\n",
       "      <td>-0.044728</td>\n",
       "    </tr>\n",
       "    <tr>\n",
       "      <th>29</th>\n",
       "      <td>30</td>\n",
       "      <td>2010-07-19</td>\n",
       "      <td>공공기관 파악 라인 논란 국책 계열 시절 접수 대선 여의도 전무 회수 자문 연합 수...</td>\n",
       "      <td>0.003344</td>\n",
       "    </tr>\n",
       "    <tr>\n",
       "      <th>...</th>\n",
       "      <td>...</td>\n",
       "      <td>...</td>\n",
       "      <td>...</td>\n",
       "      <td>...</td>\n",
       "    </tr>\n",
       "    <tr>\n",
       "      <th>1024</th>\n",
       "      <td>1961</td>\n",
       "      <td>2018-10-28</td>\n",
       "      <td>주간 경신 중구 전일 원달러 무단 무단전재 전재 악재 모멘텀 국면 기초 여건 지배 ...</td>\n",
       "      <td>-0.006667</td>\n",
       "    </tr>\n",
       "    <tr>\n",
       "      <th>1025</th>\n",
       "      <td>1962</td>\n",
       "      <td>2018-10-29</td>\n",
       "      <td>삼성화재 순환 출자 지배 지배구조 증권가 금융투자업계 공정 삼성생명 국회 이종 소속...</td>\n",
       "      <td>-0.033557</td>\n",
       "    </tr>\n",
       "    <tr>\n",
       "      <th>1026</th>\n",
       "      <td>1967</td>\n",
       "      <td>2018-11-04</td>\n",
       "      <td>프로젝트 투자가 신영 공장 한국경제 억만원 가동 매일 문의 조치 현대차 내수 위축 ...</td>\n",
       "      <td>0.003333</td>\n",
       "    </tr>\n",
       "    <tr>\n",
       "      <th>1027</th>\n",
       "      <td>1971</td>\n",
       "      <td>2018-11-09</td>\n",
       "      <td>쇼핑 전일 개장 한때 반전 동향 순매수 만주 순매도 애널리스트 지영 마트 차원 회계...</td>\n",
       "      <td>0.013245</td>\n",
       "    </tr>\n",
       "    <tr>\n",
       "      <th>1028</th>\n",
       "      <td>1979</td>\n",
       "      <td>2018-11-19</td>\n",
       "      <td>기계 청약 선두 제휴 자문 교보 공식 밸류 빅데이터 편입 문의 특성 개사 사가 기술...</td>\n",
       "      <td>0.006711</td>\n",
       "    </tr>\n",
       "    <tr>\n",
       "      <th>1029</th>\n",
       "      <td>1981</td>\n",
       "      <td>2018-11-21</td>\n",
       "      <td>하락세 유가증권시장 현대차 저가 경신 내수 개별 종료 실현 수치 소프트 자원 덕분 ...</td>\n",
       "      <td>0.010067</td>\n",
       "    </tr>\n",
       "    <tr>\n",
       "      <th>1030</th>\n",
       "      <td>1995</td>\n",
       "      <td>2018-12-09</td>\n",
       "      <td>신제품 소개 공장 설비 솔루션 핀테크 기업인 위치 사고 간편 장비 부실 기술력 파트...</td>\n",
       "      <td>-0.023649</td>\n",
       "    </tr>\n",
       "    <tr>\n",
       "      <th>1031</th>\n",
       "      <td>1996</td>\n",
       "      <td>2018-12-10</td>\n",
       "      <td>마트 라인 차별화 점포 지영 통해 본격화 프리미엄 마켓 콘텐츠 분할 제고 식품 시너...</td>\n",
       "      <td>-0.006920</td>\n",
       "    </tr>\n",
       "    <tr>\n",
       "      <th>1032</th>\n",
       "      <td>1998</td>\n",
       "      <td>2018-12-12</td>\n",
       "      <td>신용카드 대금 한번 체크 조회 금감원 씨티 제일 사의 카카오 위주 발급 이용자 인증...</td>\n",
       "      <td>0.010345</td>\n",
       "    </tr>\n",
       "    <tr>\n",
       "      <th>1033</th>\n",
       "      <td>2004</td>\n",
       "      <td>2018-12-20</td>\n",
       "      <td>바닥 국면 매입 업황 침체 개월간 해석 월말 파트너 단순 어치 만주 변경 안팎 과도...</td>\n",
       "      <td>0.006601</td>\n",
       "    </tr>\n",
       "    <tr>\n",
       "      <th>1034</th>\n",
       "      <td>2009</td>\n",
       "      <td>2018-12-28</td>\n",
       "      <td>과도 트럼프 원인 소비 금융시장 행정 공헌 어린이 참가 교통 개의 세종 아산 학교 ...</td>\n",
       "      <td>-0.035587</td>\n",
       "    </tr>\n",
       "    <tr>\n",
       "      <th>1035</th>\n",
       "      <td>2013</td>\n",
       "      <td>2019-01-07</td>\n",
       "      <td>스타트 시청 업무협약 단지 위치 금융시장 소외 억만원 스타트업 선발 설계 공기업 민...</td>\n",
       "      <td>0.011278</td>\n",
       "    </tr>\n",
       "    <tr>\n",
       "      <th>1036</th>\n",
       "      <td>2017</td>\n",
       "      <td>2019-01-11</td>\n",
       "      <td>라운드 축소 하향 다수 모멘텀 중장기 강점 파악 확장 콘텐츠 노하우 애널리스트 투자...</td>\n",
       "      <td>-0.018315</td>\n",
       "    </tr>\n",
       "    <tr>\n",
       "      <th>1037</th>\n",
       "      <td>2020</td>\n",
       "      <td>2019-01-16</td>\n",
       "      <td>사의 점유율 수혜 장비 설비 시각 네트워크 보안 움직임 전보 파견 영화 랜드 뉴욕 ...</td>\n",
       "      <td>-0.003597</td>\n",
       "    </tr>\n",
       "    <tr>\n",
       "      <th>1038</th>\n",
       "      <td>2021</td>\n",
       "      <td>2019-01-17</td>\n",
       "      <td>출발 등락 뉴욕 누적 모멘텀 어치 차익 순매수 우위 장비 가스 의료 모비스 트리 순...</td>\n",
       "      <td>-0.007220</td>\n",
       "    </tr>\n",
       "    <tr>\n",
       "      <th>1039</th>\n",
       "      <td>2025</td>\n",
       "      <td>2019-01-23</td>\n",
       "      <td>시트 사모 사모펀드 사항 동반자 순환 금융지원 영역 사의 조기 임직원 과의 협업 절...</td>\n",
       "      <td>0.014652</td>\n",
       "    </tr>\n",
       "    <tr>\n",
       "      <th>1040</th>\n",
       "      <td>2026</td>\n",
       "      <td>2019-01-24</td>\n",
       "      <td>출연 시도 수급 아이디어 시트 변수 모멘텀 출발 마켓 시청 종료 카카오 핀테크 콘텐...</td>\n",
       "      <td>0.003610</td>\n",
       "    </tr>\n",
       "    <tr>\n",
       "      <th>1041</th>\n",
       "      <td>2028</td>\n",
       "      <td>2019-01-28</td>\n",
       "      <td>수혜 종가 편입 공유 유일 점유율 인공 인공지능 지능 네트워크 장비 개의 개편 모멘...</td>\n",
       "      <td>0.007220</td>\n",
       "    </tr>\n",
       "    <tr>\n",
       "      <th>1042</th>\n",
       "      <td>2043</td>\n",
       "      <td>2019-02-21</td>\n",
       "      <td>바닥 관측 유가증권시장 추정치 센서스 셋대우 구매 중단 라운드 근거 에프앤가이드 가...</td>\n",
       "      <td>-0.007092</td>\n",
       "    </tr>\n",
       "    <tr>\n",
       "      <th>1043</th>\n",
       "      <td>2045</td>\n",
       "      <td>2019-02-25</td>\n",
       "      <td>공장 단지 이사장 왼쪽 본점 선도 업무협약 개편 과의 계기 영화 콘텐츠 출발 부가 ...</td>\n",
       "      <td>-0.010601</td>\n",
       "    </tr>\n",
       "    <tr>\n",
       "      <th>1044</th>\n",
       "      <td>2053</td>\n",
       "      <td>2019-03-08</td>\n",
       "      <td>출발 전일 성장률 하향 기조 시트 영국 연합 내부 전반적 협상 악재 억원어치 어치 ...</td>\n",
       "      <td>0.010870</td>\n",
       "    </tr>\n",
       "    <tr>\n",
       "      <th>1045</th>\n",
       "      <td>2054</td>\n",
       "      <td>2019-03-11</td>\n",
       "      <td>인증 보안 금융기관 본인 선호 솔루션 수입 설계 제작 기술력 직접 하나금융투자 체크...</td>\n",
       "      <td>0.014337</td>\n",
       "    </tr>\n",
       "    <tr>\n",
       "      <th>1046</th>\n",
       "      <td>2056</td>\n",
       "      <td>2019-03-13</td>\n",
       "      <td>처리 뱅킹 바닥 통해 통장 체크 보안 발급 변경 개의 지능 디지털뉴스국 류영상 오정...</td>\n",
       "      <td>0.000000</td>\n",
       "    </tr>\n",
       "    <tr>\n",
       "      <th>1047</th>\n",
       "      <td>2057</td>\n",
       "      <td>2019-03-14</td>\n",
       "      <td>소외 주문 누적 회원 라인 열린 가입자 수치 창구 시도 구매 맞춤 맞춤형 뱅킹 조회...</td>\n",
       "      <td>0.028169</td>\n",
       "    </tr>\n",
       "    <tr>\n",
       "      <th>1048</th>\n",
       "      <td>2059</td>\n",
       "      <td>2019-03-18</td>\n",
       "      <td>총회 금융지주 아래 본인 인증 제고 연방 전일 등락 한국은행 모집 성공적 공간 미만...</td>\n",
       "      <td>0.003413</td>\n",
       "    </tr>\n",
       "    <tr>\n",
       "      <th>1049</th>\n",
       "      <td>2061</td>\n",
       "      <td>2019-03-20</td>\n",
       "      <td>의사 매력 대표이사 건강 자녀 인수합병 매입 공장 정리 외부 회계 제안 사의 대금 ...</td>\n",
       "      <td>-0.010345</td>\n",
       "    </tr>\n",
       "    <tr>\n",
       "      <th>1050</th>\n",
       "      <td>2068</td>\n",
       "      <td>2019-03-29</td>\n",
       "      <td>여의도 열린 방지 왼쪽 기업은행장 진흥 부사장 인공 인공지능 지능 금감원 저가 임원...</td>\n",
       "      <td>0.021352</td>\n",
       "    </tr>\n",
       "    <tr>\n",
       "      <th>1051</th>\n",
       "      <td>2073</td>\n",
       "      <td>2019-04-05</td>\n",
       "      <td>주력 가계 취지 차별화 중기 잔액 상공인 저금리 물론 중개 공장 이탈 방지 우선 차...</td>\n",
       "      <td>-0.006849</td>\n",
       "    </tr>\n",
       "    <tr>\n",
       "      <th>1052</th>\n",
       "      <td>2074</td>\n",
       "      <td>2019-04-08</td>\n",
       "      <td>마켓 상공인 아이비케이기업은행 회계 제휴 금융위 결합 안팎 성장세 스타트 스타트업 ...</td>\n",
       "      <td>-0.003448</td>\n",
       "    </tr>\n",
       "    <tr>\n",
       "      <th>1053</th>\n",
       "      <td>2078</td>\n",
       "      <td>2019-04-12</td>\n",
       "      <td>사모 조합 오늘 종가 직전 일보 인공 인공지능 지능 작성 프로젝트 도시 여건 구체적...</td>\n",
       "      <td>-0.006803</td>\n",
       "    </tr>\n",
       "  </tbody>\n",
       "</table>\n",
       "<p>1054 rows × 4 columns</p>\n",
       "</div>"
      ],
      "text/plain": [
       "      Unnamed: 0        Date  \\\n",
       "0              0  2010-04-18   \n",
       "1              1  2010-04-19   \n",
       "2              2  2010-04-23   \n",
       "3              3  2010-04-25   \n",
       "4              4  2010-04-26   \n",
       "5              6  2010-05-07   \n",
       "6              7  2010-05-10   \n",
       "7              8  2010-05-11   \n",
       "8              9  2010-05-16   \n",
       "9             10  2010-05-17   \n",
       "10            11  2010-05-18   \n",
       "11            12  2010-05-30   \n",
       "12            13  2010-05-31   \n",
       "13            14  2010-06-03   \n",
       "14            15  2010-06-14   \n",
       "15            16  2010-06-17   \n",
       "16            17  2010-06-18   \n",
       "17            18  2010-06-20   \n",
       "18            19  2010-06-21   \n",
       "19            20  2010-06-23   \n",
       "20            21  2010-06-24   \n",
       "21            22  2010-06-29   \n",
       "22            23  2010-06-30   \n",
       "23            24  2010-07-02   \n",
       "24            25  2010-07-05   \n",
       "25            26  2010-07-12   \n",
       "26            27  2010-07-13   \n",
       "27            28  2010-07-14   \n",
       "28            29  2010-07-18   \n",
       "29            30  2010-07-19   \n",
       "...          ...         ...   \n",
       "1024        1961  2018-10-28   \n",
       "1025        1962  2018-10-29   \n",
       "1026        1967  2018-11-04   \n",
       "1027        1971  2018-11-09   \n",
       "1028        1979  2018-11-19   \n",
       "1029        1981  2018-11-21   \n",
       "1030        1995  2018-12-09   \n",
       "1031        1996  2018-12-10   \n",
       "1032        1998  2018-12-12   \n",
       "1033        2004  2018-12-20   \n",
       "1034        2009  2018-12-28   \n",
       "1035        2013  2019-01-07   \n",
       "1036        2017  2019-01-11   \n",
       "1037        2020  2019-01-16   \n",
       "1038        2021  2019-01-17   \n",
       "1039        2025  2019-01-23   \n",
       "1040        2026  2019-01-24   \n",
       "1041        2028  2019-01-28   \n",
       "1042        2043  2019-02-21   \n",
       "1043        2045  2019-02-25   \n",
       "1044        2053  2019-03-08   \n",
       "1045        2054  2019-03-11   \n",
       "1046        2056  2019-03-13   \n",
       "1047        2057  2019-03-14   \n",
       "1048        2059  2019-03-18   \n",
       "1049        2061  2019-03-20   \n",
       "1050        2068  2019-03-29   \n",
       "1051        2073  2019-04-05   \n",
       "1052        2074  2019-04-08   \n",
       "1053        2078  2019-04-12   \n",
       "\n",
       "                                                content    change  \n",
       "0     금융상품 인증 우대금리 구매 어치 적립 단체 분할 입금 설정 본인 이용자 제출 근무...  0.000000  \n",
       "1     금융상품 인증 우대금리 구매 어치 적립 단체 분할 입금 설정 본인 이용자 제출 근무... -0.009375  \n",
       "2     사업자 하이닉스 역대 전반적 호조 견인 부가 공정 아이비케이투자증권 선전 디스플레이...  0.042904  \n",
       "3     한국투자증권 라운드 설정 잔액 장비 포스 한국전력 자문 사가 포트폴리오 기본 편입 ...  0.042904  \n",
       "4     한국투자증권 라운드 설정 잔액 장비 포스 한국전력 자문 사가 포트폴리오 기본 편입 ...  0.000000  \n",
       "5     투자은행 골드 이해 접근 유명 보험사 이야기 파생 독일 구매 금융위기 수상 직전 자...  0.025455  \n",
       "6     지식 전보 가스 체육 관광 승진 행정 재정 진흥 강원 학교 소장 단장 창원 일보 차...  0.007092  \n",
       "7     지식 전보 가스 체육 관광 승진 행정 재정 진흥 강원 학교 임원 소장 단장 서울대 ... -0.024648  \n",
       "8        통장 선물 면제 청약 서민 퇴직 신탁 송금 기기 여신 감면 기업인 제휴 자녀 임직원 -0.060932  \n",
       "9     재정 금융시장 뉴욕 하이투자증권 도시 소식 상승률 신용등급 우리나라 하향 형성 체육...  0.019084  \n",
       "10             재정 금융시장 뉴욕 하이투자증권 도시 소식 상승률 신용등급 우리나라 하향 -0.029963  \n",
       "11                                         등락 이체 움직임 설계 -0.003745  \n",
       "12                                         등락 이체 움직임 설계  0.026316  \n",
       "13    세대 움직임 사태 구조조정 실질적 민간 포스 설치 퇴직 설정 맞춤 맞춤형 성공률 설... -0.027304  \n",
       "14    장세 박스권 등락 재정 여파 지연 편입 미만 규정 범위 이외 파생 강점 보수 설정 ... -0.016779  \n",
       "15                 내수 인도 러시아 재정 대외 마이너스 주간 단위 등락 침체 성장률  0.000000  \n",
       "16                 러시아 인도 재정 대외 마이너스 주간 단위 등락 침체 성장률 내수  0.016835  \n",
       "17    아이디어 바닥 마이너스 고민 마찬가지 적립 결합 움직임 이체 설정 변동 단위 반응 ...  0.016835  \n",
       "18    바닥 마이너스 고민 마찬가지 아이디어 적립 결합 움직임 이체 설정 변동 단위 반응 ...  0.000000  \n",
       "19                     등락 이체 움직임 설계 적립 아래 변경 처리 전화 아이디어  0.006711  \n",
       "20    등락 이체 움직임 설계 적립 아래 변경 처리 전화 아이디어 파악 통장 급여 충족 기... -0.003333  \n",
       "21    소액 급여 통장 설계 잔액 설정 변경 이체 기기 면제 전화 개월간 국면 특정 구매 ... -0.013605  \n",
       "22    국면 특정 구매 시도 건강 식품 브랜드 차별화 공장 가동 급여 통장 소액 설계 신탁... -0.006897  \n",
       "23    예술 하면서 사회적 공헌 공연 공간 목소리 복합 전당 미디어 기업인 제이 업무협약 ... -0.041667  \n",
       "24    호재 개막 상장사 공식 수치 포스 디스플레이 하이닉스 증권업계 추정치 수혜 주인 안...  0.007246  \n",
       "25    한국은행 저금리 금리인상 수혜 원화 원달러 삼성증권 대한항공 내수 마진 수입 상승률...  0.000000  \n",
       "26          청년 한번 행복 기업은행장 제안 행장 소식 전화 시험 대한민국 민국 제일 아래  0.019608  \n",
       "27                           마트 의료 쇼핑 소비 성향 대금 영화 통장 기계  0.009615  \n",
       "28    공공기관 파악 라인 논란 국책 계열 시절 접수 수석 한국은행 노동 대선 자문 대외 ... -0.044728  \n",
       "29    공공기관 파악 라인 논란 국책 계열 시절 접수 대선 여의도 전무 회수 자문 연합 수...  0.003344  \n",
       "...                                                 ...       ...  \n",
       "1024  주간 경신 중구 전일 원달러 무단 무단전재 전재 악재 모멘텀 국면 기초 여건 지배 ... -0.006667  \n",
       "1025  삼성화재 순환 출자 지배 지배구조 증권가 금융투자업계 공정 삼성생명 국회 이종 소속... -0.033557  \n",
       "1026  프로젝트 투자가 신영 공장 한국경제 억만원 가동 매일 문의 조치 현대차 내수 위축 ...  0.003333  \n",
       "1027  쇼핑 전일 개장 한때 반전 동향 순매수 만주 순매도 애널리스트 지영 마트 차원 회계...  0.013245  \n",
       "1028  기계 청약 선두 제휴 자문 교보 공식 밸류 빅데이터 편입 문의 특성 개사 사가 기술...  0.006711  \n",
       "1029  하락세 유가증권시장 현대차 저가 경신 내수 개별 종료 실현 수치 소프트 자원 덕분 ...  0.010067  \n",
       "1030  신제품 소개 공장 설비 솔루션 핀테크 기업인 위치 사고 간편 장비 부실 기술력 파트... -0.023649  \n",
       "1031  마트 라인 차별화 점포 지영 통해 본격화 프리미엄 마켓 콘텐츠 분할 제고 식품 시너... -0.006920  \n",
       "1032  신용카드 대금 한번 체크 조회 금감원 씨티 제일 사의 카카오 위주 발급 이용자 인증...  0.010345  \n",
       "1033  바닥 국면 매입 업황 침체 개월간 해석 월말 파트너 단순 어치 만주 변경 안팎 과도...  0.006601  \n",
       "1034  과도 트럼프 원인 소비 금융시장 행정 공헌 어린이 참가 교통 개의 세종 아산 학교 ... -0.035587  \n",
       "1035  스타트 시청 업무협약 단지 위치 금융시장 소외 억만원 스타트업 선발 설계 공기업 민...  0.011278  \n",
       "1036  라운드 축소 하향 다수 모멘텀 중장기 강점 파악 확장 콘텐츠 노하우 애널리스트 투자... -0.018315  \n",
       "1037  사의 점유율 수혜 장비 설비 시각 네트워크 보안 움직임 전보 파견 영화 랜드 뉴욕 ... -0.003597  \n",
       "1038  출발 등락 뉴욕 누적 모멘텀 어치 차익 순매수 우위 장비 가스 의료 모비스 트리 순... -0.007220  \n",
       "1039  시트 사모 사모펀드 사항 동반자 순환 금융지원 영역 사의 조기 임직원 과의 협업 절...  0.014652  \n",
       "1040  출연 시도 수급 아이디어 시트 변수 모멘텀 출발 마켓 시청 종료 카카오 핀테크 콘텐...  0.003610  \n",
       "1041  수혜 종가 편입 공유 유일 점유율 인공 인공지능 지능 네트워크 장비 개의 개편 모멘...  0.007220  \n",
       "1042  바닥 관측 유가증권시장 추정치 센서스 셋대우 구매 중단 라운드 근거 에프앤가이드 가... -0.007092  \n",
       "1043  공장 단지 이사장 왼쪽 본점 선도 업무협약 개편 과의 계기 영화 콘텐츠 출발 부가 ... -0.010601  \n",
       "1044  출발 전일 성장률 하향 기조 시트 영국 연합 내부 전반적 협상 악재 억원어치 어치 ...  0.010870  \n",
       "1045  인증 보안 금융기관 본인 선호 솔루션 수입 설계 제작 기술력 직접 하나금융투자 체크...  0.014337  \n",
       "1046  처리 뱅킹 바닥 통해 통장 체크 보안 발급 변경 개의 지능 디지털뉴스국 류영상 오정...  0.000000  \n",
       "1047  소외 주문 누적 회원 라인 열린 가입자 수치 창구 시도 구매 맞춤 맞춤형 뱅킹 조회...  0.028169  \n",
       "1048  총회 금융지주 아래 본인 인증 제고 연방 전일 등락 한국은행 모집 성공적 공간 미만...  0.003413  \n",
       "1049  의사 매력 대표이사 건강 자녀 인수합병 매입 공장 정리 외부 회계 제안 사의 대금 ... -0.010345  \n",
       "1050  여의도 열린 방지 왼쪽 기업은행장 진흥 부사장 인공 인공지능 지능 금감원 저가 임원...  0.021352  \n",
       "1051  주력 가계 취지 차별화 중기 잔액 상공인 저금리 물론 중개 공장 이탈 방지 우선 차... -0.006849  \n",
       "1052  마켓 상공인 아이비케이기업은행 회계 제휴 금융위 결합 안팎 성장세 스타트 스타트업 ... -0.003448  \n",
       "1053  사모 조합 오늘 종가 직전 일보 인공 인공지능 지능 작성 프로젝트 도시 여건 구체적... -0.006803  \n",
       "\n",
       "[1054 rows x 4 columns]"
      ]
     },
     "execution_count": 189,
     "metadata": {},
     "output_type": "execute_result"
    }
   ],
   "source": [
    "article"
   ]
  },
  {
   "cell_type": "markdown",
   "metadata": {},
   "source": [
    "### 불용어 처리를 위한 형태소 분석기"
   ]
  },
  {
   "cell_type": "code",
   "execution_count": 190,
   "metadata": {},
   "outputs": [],
   "source": [
    "kkma = Kkma()"
   ]
  },
  {
   "cell_type": "markdown",
   "metadata": {},
   "source": [
    "### 어떤 단어 몇번 들어가있나 확인(디버깅 용)"
   ]
  },
  {
   "cell_type": "raw",
   "metadata": {},
   "source": [
    "for i in range(len(r_json_data)):\n",
    "    if r_json_data[i][0] == '극복':\n",
    "        print(r_json_data[i][1])\n",
    "        break"
   ]
  },
  {
   "cell_type": "raw",
   "metadata": {},
   "source": [
    "for i in range(len(r_json_data)):\n",
    "    if r_json_data[i][1] <= 242 and r_json_data[i][1] >= 200:\n",
    "        print(r_json_data[i][0])\n",
    "        #break"
   ]
  },
  {
   "cell_type": "raw",
   "metadata": {},
   "source": [
    "print(r_json_data[-172500:-170000]) #171000 ~ 175개 이하 #172000 ~ 361 # 173000 ~ 1441"
   ]
  },
  {
   "cell_type": "markdown",
   "metadata": {},
   "source": [
    "# 불용어 사전 만들기(새로운 명사추출 csv파일 만들때 사용)"
   ]
  },
  {
   "cell_type": "raw",
   "metadata": {},
   "source": [
    "lis = []\n",
    "#print(len(r_json_data)) # 173234\n",
    "#print(type(r_json_data[0][1])) # int\n",
    "#print(r_json_data[0][1]) # 12549\n",
    "for i in range(len(r_json_data)):\n",
    "    if (r_json_data[i][1] <= 242 or r_json_data[i][1] >= 500 or (len(r_json_data[i][0]) == 1)):\n",
    "        lis.append(r_json_data[i][0])\n",
    "        \n",
    "with open(\"stopkor_3.txt\", \"w\", encoding='utf-8') as f:\n",
    "    for i in range(0, len(lis)):\n",
    "        f.write(lis[i]+'\\n')\n",
    "        \n",
    "print(lis)"
   ]
  },
  {
   "cell_type": "raw",
   "metadata": {},
   "source": [
    "print(len(lis))"
   ]
  },
  {
   "cell_type": "raw",
   "metadata": {},
   "source": [
    "f = open(\"stopkor_3.txt\", 'r',encoding='utf-8')\n",
    "stopkr=[]\n",
    "while True:\n",
    "    line = f.readline()\n",
    "    if not line: break\n",
    "    stopkr.append(line.strip())\n",
    "f.close()\n",
    "print(stopkr[:100])"
   ]
  },
  {
   "cell_type": "markdown",
   "metadata": {},
   "source": [
    "## 불용어 뺀 기사 단어 보기(디버깅 용)"
   ]
  },
  {
   "cell_type": "raw",
   "metadata": {},
   "source": [
    "nt=[]\n",
    "\n",
    "s= article.contents\n",
    "ns=kkma.nouns(s[20])\n",
    "nt.append(ns)\n",
    "\n",
    "ntall = []\n",
    "\n",
    "for n in nt:\n",
    "    ntall.extend(n)\n",
    "    \n",
    "newc=''\n",
    "for w in ntall:\n",
    "    if w not in stopkr:\n",
    "        newc += w.strip()+' '\n",
    "print(newc[:])  "
   ]
  },
  {
   "cell_type": "markdown",
   "metadata": {},
   "source": [
    "### 불용어, 금융과 무관한 명사 제거한 기사 list"
   ]
  },
  {
   "cell_type": "code",
   "execution_count": 191,
   "metadata": {},
   "outputs": [],
   "source": [
    "fre_word = [t for tr in article for t in article.content]"
   ]
  },
  {
   "cell_type": "code",
   "execution_count": 193,
   "metadata": {},
   "outputs": [],
   "source": [
    "s_fre_word = str(fre_word)"
   ]
  },
  {
   "cell_type": "code",
   "execution_count": 195,
   "metadata": {},
   "outputs": [],
   "source": [
    "s_fre_list = s_fre_word.split()"
   ]
  },
  {
   "cell_type": "code",
   "execution_count": 197,
   "metadata": {},
   "outputs": [
    {
     "name": "stdout",
     "output_type": "stream",
     "text": [
      "<Text: word>\n"
     ]
    }
   ],
   "source": [
    "txt = nltk.Text(s_fre_list, name='word')\n",
    "print(txt)"
   ]
  },
  {
   "cell_type": "markdown",
   "metadata": {},
   "source": [
    "### 사용하는 명사 빈도수 그래프"
   ]
  },
  {
   "cell_type": "code",
   "execution_count": 198,
   "metadata": {},
   "outputs": [
    {
     "data": {
      "image/png": "[encoded data removed]",
      "text/plain": [
       "<Figure size 1440x720 with 1 Axes>"
      ]
     },
     "metadata": {
      "needs_background": "light"
     },
     "output_type": "display_data"
    }
   ],
   "source": [
    "import matplotlib\n",
    "import matplotlib.pyplot as plt\n",
    "from matplotlib import font_manager, rc\n",
    "import matplotlib.font_manager as fm\n",
    "%matplotlib inline\n",
    "\n",
    "font_location = 'malgun.ttf'  \n",
    "#C:\\\\Users\\\\Administrator\\\\Documents\\\\asiasummer\\\\webdata\\\\\n",
    "font_name = fm.FontProperties(fname = font_location).get_name()\n",
    "matplotlib.rc('font', family = font_name)\n",
    "plt.figure(figsize=(20,10))\n",
    "txt.plot(300)"
   ]
  },
  {
   "cell_type": "code",
   "execution_count": 199,
   "metadata": {},
   "outputs": [
    {
     "name": "stdout",
     "output_type": "stream",
     "text": [
      "['반응', '변동', '저금리', '원인', '금융시장', '소비', '보장', '수치', '기조', '하나금융투자']\n"
     ]
    }
   ],
   "source": [
    "sel_token=[f[0] for f in txt.vocab().most_common(1000)]\n",
    "print(sel_token[:10])"
   ]
  },
  {
   "cell_type": "markdown",
   "metadata": {},
   "source": [
    "### 용어 빈도수"
   ]
  },
  {
   "cell_type": "code",
   "execution_count": 200,
   "metadata": {},
   "outputs": [],
   "source": [
    "def frev(doc):\n",
    "    return [doc.count(stoken) for stoken in sel_token]"
   ]
  },
  {
   "cell_type": "markdown",
   "metadata": {},
   "source": [
    "### 학습 데이터, 테스트 데이터 셋 만듬"
   ]
  },
  {
   "cell_type": "code",
   "execution_count": 201,
   "metadata": {},
   "outputs": [],
   "source": [
    "X_train, X_test, y_train, y_test = train_test_split(article.content, [1 if x >= 0 else 0 for x in article.change], test_size=0.1, random_state=0)"
   ]
  },
  {
   "cell_type": "code",
   "execution_count": 202,
   "metadata": {},
   "outputs": [],
   "source": [
    "train_x = [frev(d) for d in X_train]\n",
    "train_y = [d for d in y_train]\n",
    "\n",
    "test_x = [frev(d) for d in X_test]\n",
    "test_y = [d for d in y_test]\n"
   ]
  },
  {
   "cell_type": "code",
   "execution_count": 203,
   "metadata": {},
   "outputs": [],
   "source": [
    "import numpy as np\n",
    "train_x=np.asarray(train_x).astype('float32')\n",
    "train_y=np.asarray(train_y).astype('float32')\n",
    "test_x=np.asarray(test_x).astype('float32')\n",
    "test_y=np.asarray(test_y).astype('float32')"
   ]
  },
  {
   "cell_type": "code",
   "execution_count": 204,
   "metadata": {},
   "outputs": [
    {
     "data": {
      "text/plain": [
       "((948, 1000), (948,), (106, 1000), (106,))"
      ]
     },
     "execution_count": 204,
     "metadata": {},
     "output_type": "execute_result"
    }
   ],
   "source": [
    "train_x.shape, train_y.shape, test_x.shape, test_y.shape"
   ]
  },
  {
   "cell_type": "code",
   "execution_count": 205,
   "metadata": {},
   "outputs": [],
   "source": [
    "from tensorflow.keras import models\n",
    "from tensorflow.keras import layers\n",
    "from tensorflow.keras import optimizers\n",
    "from tensorflow.keras import losses\n",
    "from tensorflow.keras import metrics\n",
    "from tensorflow.keras.layers import Dense, Dropout, Activation"
   ]
  },
  {
   "cell_type": "markdown",
   "metadata": {},
   "source": [
    "### 딥러닝 모델 학습"
   ]
  },
  {
   "cell_type": "markdown",
   "metadata": {},
   "source": [
    "### 이진 분류 문제에서는 binary_crossentropy가 좋다"
   ]
  },
  {
   "cell_type": "code",
   "execution_count": null,
   "metadata": {},
   "outputs": [],
   "source": [
    "np.random.seed(0)\n",
    "model=models.Sequential()\n",
    "\n",
    "model.add(layers.Dense(100, activation='relu',input_shape=(1000,)))\n",
    "model.add(layers.Dense(80, activation='relu'))\n",
    "model.add(layers.Dense(60, activation='relu'))\n",
    "model.add(layers.Dense(40, activation='relu'))\n",
    "model.add(layers.Dense(20, activation='relu'))\n",
    "model.add(layers.Dense(10, activation='relu'))\n",
    "model.add(layers.Dense(1,activation='sigmoid'))\n",
    "\n",
    "\n",
    "model.compile(optimizer=optimizers.RMSprop(lr=0.0001)\n",
    "             ,loss=losses.binary_crossentropy\n",
    "             ,metrics=['accuracy']\n",
    "            )\n",
    "hist = model.fit(train_x,train_y,epochs=300,batch_size=500, validation_data=(test_x, test_y), verbose = 2)"
   ]
  },
  {
   "cell_type": "markdown",
   "metadata": {},
   "source": [
    "## 모델 저장"
   ]
  },
  {
   "cell_type": "raw",
   "metadata": {},
   "source": [
    "from keras.models import load_model\n",
    "model.save('300_1000_binary_cross_65.h5')"
   ]
  },
  {
   "cell_type": "markdown",
   "metadata": {},
   "source": [
    "## 모델 불러오기"
   ]
  },
  {
   "cell_type": "code",
   "execution_count": null,
   "metadata": {},
   "outputs": [],
   "source": [
    "from keras.models import load_model\n",
    "model07 = tf.keras.models.load_model('300_1000_binary_cross_65.h5')"
   ]
  },
  {
   "cell_type": "code",
   "execution_count": null,
   "metadata": {},
   "outputs": [],
   "source": [
    "model07.summary()"
   ]
  },
  {
   "cell_type": "markdown",
   "metadata": {},
   "source": [
    "### test_data로 예측"
   ]
  },
  {
   "cell_type": "code",
   "execution_count": 220,
   "metadata": {},
   "outputs": [],
   "source": [
    "def predict_pos_neg(review, change):\n",
    "    token = review.split()\n",
    "    tf = frev(token)\n",
    "    data = np.expand_dims(np.asarray(tf).astype('float64'), axis=0)\n",
    "    score = float(model07.predict(data))\n",
    "    print(score)\n",
    "    if(score > 0.5):\n",
    "        #print(\"[{}]\\n\".format(review))\n",
    "        print(\"{:.2f}% 확률로 주가가 상승또는 유지 할것으로 추측해봅니다\\n\".format(score * 100))\n",
    "        print(\"실제 변화율 : {}\\n\".format(change))\n",
    "    else:\n",
    "        #print(\"[{}]\\n\".format(review))\n",
    "        print(\"{:.2f}% 확률로 주가가 하락할 것으로 추측해봅니다\\n\".format((1-score) * 100))\n",
    "        print(\"실제 변화율 : {}\\n\".format(change))"
   ]
  },
  {
   "cell_type": "code",
   "execution_count": 221,
   "metadata": {},
   "outputs": [
    {
     "name": "stdout",
     "output_type": "stream",
     "text": [
      "3.3218432236026274e-06\n",
      "100.00% 확률로 주가가 하락할 것으로 추측해봅니다\n",
      "\n",
      "실제 변화율 : -0.032051282\n",
      "\n"
     ]
    }
   ],
   "source": [
    "predict_pos_neg(article.content[1001],article.change[1001])"
   ]
  },
  {
   "cell_type": "markdown",
   "metadata": {},
   "source": [
    "### 정확도, loss등 그래프"
   ]
  },
  {
   "cell_type": "code",
   "execution_count": 222,
   "metadata": {},
   "outputs": [
    {
     "data": {
      "image/png": "[encoded data removed]",
      "text/plain": [
       "<Figure size 1080x360 with 2 Axes>"
      ]
     },
     "metadata": {
      "needs_background": "light"
     },
     "output_type": "display_data"
    }
   ],
   "source": [
    "plt.figure(figsize=(15, 5))\n",
    "plt.subplot(1, 2, 1)\n",
    "plt.plot(hist.history['loss'])\n",
    "plt.title(\"훈련 중 비용함수 그래프\")\n",
    "plt.ylabel(\"비용함수 값\")\n",
    "plt.subplot(1, 2, 2)\n",
    "plt.title(\"훈련 중 성능지표 그래프\")\n",
    "plt.ylabel(\"성능지표 값\")\n",
    "plt.plot(hist.history['acc'], 'b-', label=\"학습 성능\")\n",
    "plt.plot(hist.history['val_acc'], 'r:', label=\"검증 성능\")\n",
    "plt.legend()\n",
    "plt.tight_layout()\n",
    "plt.show()"
   ]
  },
  {
   "cell_type": "code",
   "execution_count": 223,
   "metadata": {},
   "outputs": [
    {
     "data": {
      "image/png": "[encoded data removed]",
      "text/plain": [
       "<Figure size 432x288 with 1 Axes>"
      ]
     },
     "metadata": {
      "needs_background": "light"
     },
     "output_type": "display_data"
    }
   ],
   "source": [
    "acc = hist.history['acc']\n",
    "val_acc = hist.history['val_acc']\n",
    "loss = hist.history['loss']\n",
    "val_loss = hist.history['val_loss']\n",
    "\n",
    "epochs = range(1, len(acc) + 1)\n",
    "\n",
    "plt.plot(epochs, loss, 'ro', label='Training loss')\n",
    "\n",
    "plt.plot(epochs, val_loss, 'b', label='Validation loss')\n",
    "plt.title('Training and validation loss')\n",
    "plt.xlabel('Epochs')\n",
    "plt.ylabel('Loss')\n",
    "plt.legend()\n",
    "\n",
    "plt.show()"
   ]
  },
  {
   "cell_type": "code",
   "execution_count": 224,
   "metadata": {},
   "outputs": [
    {
     "data": {
      "image/png": "[encoded data removed]",
      "text/plain": [
       "<Figure size 432x288 with 1 Axes>"
      ]
     },
     "metadata": {
      "needs_background": "light"
     },
     "output_type": "display_data"
    }
   ],
   "source": [
    "plt.clf()   # 그래프를 초기화합니다\n",
    "plt.plot(epochs, acc, 'ro', label='Training acc')\n",
    "plt.plot(epochs, val_acc, 'b', label='Validation acc')\n",
    "plt.title('Training and validation accuracy')\n",
    "plt.xlabel('Epochs')\n",
    "plt.ylabel('Accuracy')\n",
    "plt.legend()\n",
    "\n",
    "fig2 = plt.gcf()\n",
    "\n",
    "plt.draw()"
   ]
  },
  {
   "cell_type": "code",
   "execution_count": null,
   "metadata": {},
   "outputs": [],
   "source": []
  }
 ],
 "metadata": {
  "kernelspec": {
   "display_name": "Python 3",
   "language": "python",
   "name": "python3"
  },
  "language_info": {
   "codemirror_mode": {
    "name": "ipython",
    "version": 3
   },
   "file_extension": ".py",
   "mimetype": "text/x-python",
   "name": "python",
   "nbconvert_exporter": "python",
   "pygments_lexer": "ipython3",
   "version": "3.7.3"
  }
 },
 "nbformat": 4,
 "nbformat_minor": 2
}
